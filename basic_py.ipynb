{
 "cells": [
  {
   "cell_type": "markdown",
   "id": "2cc851bc-f419-4907-b514-a03c89e0c1d1",
   "metadata": {},
   "source": [
    "1. Declare two variables, `x` and `y`, and assign them integer values. Swap the\n",
    "values of these variables without using any temporary variable."
   ]
  },
  {
   "cell_type": "code",
   "execution_count": 6,
   "id": "e5764588-b000-46b1-9e96-f8e1944a236f",
   "metadata": {},
   "outputs": [
    {
     "name": "stdout",
     "output_type": "stream",
     "text": [
      "Before swap x: 20 and y: 34\n",
      "after swap x:34 and y :20\n"
     ]
    }
   ],
   "source": [
    "x = 20 \n",
    "y = 34 \n",
    "\n",
    "def swap_the_varible(x,y):\n",
    "    print(f\"Before swap x: {x} and y: {y}\")\n",
    "    x,y = y , x\n",
    "    print(F\"after swap x:{x} and y :{y}\")\n",
    "\n",
    "swap_the_varible(x,y)"
   ]
  },
  {
   "cell_type": "markdown",
   "id": "d3c4c3ab-ab16-4bc0-bc18-05482db04fcf",
   "metadata": {},
   "source": [
    "Create a program that calculates the area of a rectangle. Take the length and\n",
    "width as inputs from the user and store them in variables. Calculate and\n",
    "display the area."
   ]
  },
  {
   "cell_type": "code",
   "execution_count": 14,
   "id": "4c3e4ac1-6612-4331-b224-a1d463bbc8ab",
   "metadata": {},
   "outputs": [
    {
     "name": "stdin",
     "output_type": "stream",
     "text": [
      "enter the number 3\n",
      "enter the number 3\n"
     ]
    },
    {
     "name": "stdout",
     "output_type": "stream",
     "text": [
      "9\n"
     ]
    }
   ],
   "source": [
    "l = int(input(\"enter the number\"))\n",
    "w = int(input(\"enter the number\"))\n",
    "a = l * w \n",
    "print(a)"
   ]
  },
  {
   "cell_type": "markdown",
   "id": "6bc34960-433b-49b9-a9e7-fea691fea7b5",
   "metadata": {},
   "source": [
    "Write a Python program that converts temperatures from Celsius to\n",
    "Fahrenheit. Take the temperature in Celsius as input, store it in a variable,\n",
    "convert it to Fahrenheit, and display the result."
   ]
  },
  {
   "cell_type": "code",
   "execution_count": 18,
   "id": "d3aabdbe-619f-4d61-9d26-14705b540362",
   "metadata": {},
   "outputs": [
    {
     "name": "stdin",
     "output_type": "stream",
     "text": [
      "enter the number in ce 9\n"
     ]
    },
    {
     "name": "stdout",
     "output_type": "stream",
     "text": [
      "48.2\n"
     ]
    }
   ],
   "source": [
    "\n",
    "\n",
    "c = int(input(\"enter the number in ce\"))\n",
    "\n",
    "f = c * (9/5)+32\n",
    "\n",
    "print(f)"
   ]
  },
  {
   "cell_type": "markdown",
   "id": "ce77d149-06c1-41fc-87c4-3df97c9d6b55",
   "metadata": {},
   "source": [
    "1. Write a Python program that takes a string as input and prints the length of\n",
    "the string."
   ]
  },
  {
   "cell_type": "code",
   "execution_count": 23,
   "id": "d65b1d5d-dbca-4fc8-98f0-5d0dc0ad2f92",
   "metadata": {},
   "outputs": [
    {
     "name": "stdin",
     "output_type": "stream",
     "text": [
      "enter the inputs they wana fuck me \n"
     ]
    },
    {
     "name": "stdout",
     "output_type": "stream",
     "text": [
      "18\n"
     ]
    }
   ],
   "source": [
    "s  = input(\"enter the inputs\")\n",
    "\n",
    "print(len(s))"
   ]
  },
  {
   "cell_type": "markdown",
   "id": "dafe548e-2b13-4576-a464-bbc984369c4d",
   "metadata": {},
   "source": [
    "### 2. Create a program that takes a sentence from the user and counts the number\n",
    "of vowels (a, e, i, o, u) in the string."
   ]
  },
  {
   "cell_type": "code",
   "execution_count": 28,
   "id": "b584b70a-17ae-4876-9085-972aa46fd294",
   "metadata": {},
   "outputs": [
    {
     "name": "stdin",
     "output_type": "stream",
     "text": [
      "enter the inputs HEy thisbis SHama\n"
     ]
    },
    {
     "name": "stdout",
     "output_type": "stream",
     "text": [
      "h e y   t h i s b i s   s h a m a 5\n"
     ]
    }
   ],
   "source": [
    "s  = input(\"enter the inputs\")\n",
    "\n",
    "vowel = 0 \n",
    "\n",
    "for char in s:\n",
    "    char_lower = char.lower()\n",
    "    print(char_lower , end = \" \")\n",
    "    if char_lower in \"aeiou\":\n",
    "        vowel = vowel + 1\n",
    "\n",
    "print(vowel)\n"
   ]
  },
  {
   "cell_type": "markdown",
   "id": "be3d4a4e-5580-4bed-9f59-a73e9bfcf66d",
   "metadata": {},
   "source": [
    "3. Given a string, reverse the order of characters using string slicing and print\n",
    "the reversed string."
   ]
  },
  {
   "cell_type": "code",
   "execution_count": 36,
   "id": "3ab740d8-8ced-419d-a33f-2d6946186784",
   "metadata": {},
   "outputs": [
    {
     "name": "stdout",
     "output_type": "stream",
     "text": [
      "looc si siht yhw\n"
     ]
    }
   ],
   "source": [
    "s = \"why this is cool\"\n",
    "\n",
    "print(s[::-1])"
   ]
  },
  {
   "cell_type": "markdown",
   "id": "cd9235cd-e6b7-42cc-9a80-b53a0b411716",
   "metadata": {},
   "source": [
    "4. Write a program that takes a string as input and checks if it is a palindrome\n",
    "(reads the same forwards and backwards)."
   ]
  },
  {
   "cell_type": "code",
   "execution_count": 39,
   "id": "7d40b30d-4a7c-4c07-946e-cbdd8a124ce9",
   "metadata": {},
   "outputs": [
    {
     "name": "stdin",
     "output_type": "stream",
     "text": [
      "enter the inputs ad\n"
     ]
    },
    {
     "ename": "AttributeError",
     "evalue": "'str' object has no attribute 're'",
     "output_type": "error",
     "traceback": [
      "\u001b[1;31m---------------------------------------------------------------------------\u001b[0m",
      "\u001b[1;31mAttributeError\u001b[0m                            Traceback (most recent call last)",
      "Cell \u001b[1;32mIn[39], line 3\u001b[0m\n\u001b[0;32m      1\u001b[0m s  \u001b[38;5;241m=\u001b[39m \u001b[38;5;28minput\u001b[39m(\u001b[38;5;124m\"\u001b[39m\u001b[38;5;124menter the inputs\u001b[39m\u001b[38;5;124m\"\u001b[39m)\n\u001b[1;32m----> 3\u001b[0m new \u001b[38;5;241m=\u001b[39m \u001b[43ms\u001b[49m\u001b[38;5;241;43m.\u001b[39;49m\u001b[43mre\u001b[49m\n",
      "\u001b[1;31mAttributeError\u001b[0m: 'str' object has no attribute 're'"
     ]
    }
   ],
   "source": [
    "s  = input(\"enter the inputs\")\n",
    "new = s.re"
   ]
  },
  {
   "cell_type": "code",
   "execution_count": 41,
   "id": "2d4d90b6-fd9a-4502-b14c-87188f91eb39",
   "metadata": {},
   "outputs": [
    {
     "name": "stdin",
     "output_type": "stream",
     "text": [
      "enter the inputs nitin\n"
     ]
    },
    {
     "name": "stdout",
     "output_type": "stream",
     "text": [
      "it is palindorm\n"
     ]
    }
   ],
   "source": [
    "s  = input(\"enter the inputs\")\n",
    "new = s.replace(\" \",\"\").lower()\n",
    "reverse = new[::-1]\n",
    "if new == reverse:\n",
    "    print(\"it is palindorm\")\n",
    "else:\n",
    "    print(\"it is not palindrom\")\n",
    "\n"
   ]
  },
  {
   "cell_type": "markdown",
   "id": "3f26e990-0eb0-47c6-a1f4-022ddebb3fbe",
   "metadata": {},
   "source": [
    "Create a program that takes a string as input and removes all the spaces from\n",
    "it. Print the modified string without spaces."
   ]
  },
  {
   "cell_type": "code",
   "execution_count": 42,
   "id": "9579c8fe-69d6-4da2-b1a8-e44da0a0c499",
   "metadata": {},
   "outputs": [
    {
     "name": "stdin",
     "output_type": "stream",
     "text": [
      "enter the inputs th fuci \n"
     ]
    },
    {
     "name": "stdout",
     "output_type": "stream",
     "text": [
      "thfuci\n"
     ]
    }
   ],
   "source": [
    "s  = input(\"enter the inputs\")\n",
    "new = s.replace(\" \",\"\")\n",
    "print(new)"
   ]
  },
  {
   "cell_type": "markdown",
   "id": "3d0ce4eb-8374-4b69-b281-8e9304298997",
   "metadata": {},
   "source": [
    "1. Write a Python program that checks if a given number is positive, negative, or zero.\n",
    "2. Create a program to determine if a person is eligible to vote based on their age.\n",
    "3. Write a program to find the maximum of two given numbers using conditional statements.\n",
    "11. Write a program that calculates the roots of a quadratic equation .\n",
    "12. Create a program that determines the day of the week based on the day number (1-7).\n",
    "13. Develop a program that calculates the factorial of a given number using recursion.\n",
    "21. Create a program that calculates the income tax based on the user's income and tax brackets.\n",
    "22. Write a program that simulates a rock-paper-scissors game against the computer.\n",
    "23. Develop a program that generates a random password based on user preferences (length, complexity).\n",
    "31. Create a program that validates a password based on complexity rules (length, characters, etc.).\n",
    "32. Develop a program that performs matrix addition and subtraction based on user input.\n",
    "33. Write a program that calculates the greatest common divisor (GCD) of two numbers using the Euclidean\n",
    "algorithm."
   ]
  },
  {
   "cell_type": "code",
   "execution_count": 7,
   "id": "2ac1b6c0-0b01-46a4-ba6f-3c2629e4a8b7",
   "metadata": {},
   "outputs": [
    {
     "name": "stdin",
     "output_type": "stream",
     "text": [
      "enter the number 89\n"
     ]
    },
    {
     "name": "stdout",
     "output_type": "stream",
     "text": [
      "positive\n"
     ]
    }
   ],
   "source": [
    "s = int(input(\"enter the number\"))\n",
    "\n",
    "if s > 0:\n",
    "    print(\"positive\")\n",
    "elif s < 0:\n",
    "    print(\"negative\")\n",
    "else:\n",
    "    print(\"zero\")\n",
    "\n"
   ]
  },
  {
   "cell_type": "code",
   "execution_count": 11,
   "id": "6a27fb7b-243b-4978-8026-04a9822d10d1",
   "metadata": {},
   "outputs": [
    {
     "name": "stdin",
     "output_type": "stream",
     "text": [
      "enter the number 0\n"
     ]
    },
    {
     "name": "stdout",
     "output_type": "stream",
     "text": [
      "No he is eligible\n"
     ]
    }
   ],
   "source": [
    "#Create a program to determine if a person is eligible to vote based on their age.\n",
    "s = int(input(\"enter the number\"))\n",
    "\n",
    "if s  > 18:\n",
    "    print(\"yes he is eligible\")\n",
    "elif s < 18:\n",
    "    print(\"No he is eligible\")\n"
   ]
  },
  {
   "cell_type": "code",
   "execution_count": 13,
   "id": "aa6df909-9109-4c87-abd8-d9689771db9d",
   "metadata": {},
   "outputs": [
    {
     "name": "stdout",
     "output_type": "stream",
     "text": [
      "The maximum number is 405\n"
     ]
    }
   ],
   "source": [
    "#Write a program to find the maximum of two given numbers using conditional statements.\n",
    "\n",
    "x = 405\n",
    "y = 90\n",
    "\n",
    "if x > y:\n",
    "    print(f\"The maximum number is {x}\")\n",
    "elif y > x:\n",
    "    print(f\"The maximum number is {y}\")\n",
    "else:\n",
    "    print(\"Both numbers are equal.\")\n"
   ]
  },
  {
   "cell_type": "code",
   "execution_count": 18,
   "id": "1bf87d2b-4e50-4a40-8314-dcb2b4f2eeb7",
   "metadata": {},
   "outputs": [
    {
     "name": "stdin",
     "output_type": "stream",
     "text": [
      "Enter the coefficient a:  7\n",
      "Enter the coefficient b:  8\n",
      "Enter the coefficient c:  9\n"
     ]
    },
    {
     "name": "stdout",
     "output_type": "stream",
     "text": [
      "The roots are complex: -0.5714285714285714 + 0.9793792286287205i and -0.5714285714285714 - 0.9793792286287205i\n"
     ]
    }
   ],
   "source": [
    "#Write a program that calculates the roots of a quadratic equation .\n",
    "import math \n",
    "a = float(input(\"Enter the coefficient a: \"))\n",
    "b = float(input(\"Enter the coefficient b: \"))\n",
    "c = float(input(\"Enter the coefficient c: \"))\n",
    "\n",
    "d = b**2 - 4*a*c\n",
    "\n",
    "if d > 0:\n",
    "    root1 = (-b + math.sqrt(d)) / (2*a)\n",
    "    root2 = (-b - math.sqrt(d)) / (2*a)\n",
    "    print(f\"The roots are real and distinct: {root1} and {root2}\")\n",
    "elif d == 0:\n",
    "    # One real root\n",
    "    root = -b / (2*a)\n",
    "    print(f\"The root is real and the same: {root}\")\n",
    "else:\n",
    "    # Complex roots\n",
    "    real_part = -b / (2*a)\n",
    "    imaginary_part = math.sqrt(-d) / (2*a)\n",
    "    print(f\"The roots are complex: {real_part} + {imaginary_part}i and {real_part} - {imaginary_part}i\")\n"
   ]
  },
  {
   "cell_type": "code",
   "execution_count": 21,
   "id": "9fd9ed7f-dd8f-4c9c-95b4-92da01dc23d3",
   "metadata": {},
   "outputs": [
    {
     "name": "stdin",
     "output_type": "stream",
     "text": [
      "enter the number 9\n"
     ]
    },
    {
     "name": "stdout",
     "output_type": "stream",
     "text": [
      "MONDAY\n"
     ]
    }
   ],
   "source": [
    "#Create a program that determines the day of the week based on the day number (1-7).\n",
    "s = int(input(\"enter the number\"))\n",
    "\n",
    "if s == 1:\n",
    "    print(\"Sunday\")\n",
    "elif s == 2:\n",
    "    print(\"MONDAY\")\n",
    "elif s == 3:\n",
    "    print(\"Tuesday\")\n",
    "elif s == 4:\n",
    "    print(\"Wed\")\n",
    "elif s == 5:\n",
    "    print(\"thur\")\n",
    "elif s == 6:\n",
    "    print(\"fri\")\n",
    "else :\n",
    "    print(\"MONDAY\")"
   ]
  },
  {
   "cell_type": "code",
   "execution_count": 22,
   "id": "08985774-0b6b-4e4f-967e-5240b34f70ed",
   "metadata": {},
   "outputs": [
    {
     "name": "stdin",
     "output_type": "stream",
     "text": [
      "Enter a number between 1 and 7 to get the day of the week:  5\n"
     ]
    },
    {
     "name": "stdout",
     "output_type": "stream",
     "text": [
      "Friday\n"
     ]
    }
   ],
   "source": [
    "# List containing the days of the week\n",
    "days_of_week = [\"Monday\", \"Tuesday\", \"Wednesday\", \"Thursday\", \"Friday\", \"Saturday\", \"Sunday\"]\n",
    "\n",
    "# Input: Get the day number from the user\n",
    "day_number = int(input(\"Enter a number between 1 and 7 to get the day of the week: \"))\n",
    "\n",
    "# Check if the number is valid\n",
    "if 1 <= day_number <= 7:\n",
    "    # Access the corresponding day from the list (subtract 1 because list index starts at 0)\n",
    "    print(days_of_week[day_number - 1])\n",
    "else:\n",
    "    print(\"Invalid input! Please enter a number between 1 and 7.\")\n"
   ]
  },
  {
   "cell_type": "code",
   "execution_count": 25,
   "id": "d41e194d-9de0-4746-ab24-f0b4c9caeb82",
   "metadata": {},
   "outputs": [
    {
     "name": "stdin",
     "output_type": "stream",
     "text": [
      "enter the num 5    \n"
     ]
    },
    {
     "name": "stdout",
     "output_type": "stream",
     "text": [
      "The factorial of 5 is 120\n"
     ]
    }
   ],
   "source": [
    "#Develop a program that calculates the factorial of a given number using recursion.\n",
    "# Function to calculate factorial using recursion\n",
    "def fact(n):\n",
    "    if n == 0 or n ==1:\n",
    "        return 1\n",
    "    else:\n",
    "        return n*fact(n-1)\n",
    "\n",
    "num = int(input(\"enter the num\"))\n",
    "\n",
    "if num < 0:\n",
    "    print(\"Factorial is not defined for negative numbers.\")\n",
    "else:\n",
    "    # Calculate and print the factorial\n",
    "    result = fact(num)\n",
    "    print(f\"The factorial of {num} is {result}\")         "
   ]
  },
  {
   "cell_type": "code",
   "execution_count": 28,
   "id": "697068d8-5d75-4a72-8335-3037f23a38b8",
   "metadata": {},
   "outputs": [
    {
     "name": "stdin",
     "output_type": "stream",
     "text": [
      "Enter your annual income:  300000\n"
     ]
    },
    {
     "name": "stdout",
     "output_type": "stream",
     "text": [
      "The income tax for an income of 300000.0 is: 58500.0\n"
     ]
    }
   ],
   "source": [
    "#Create a program that calculates the income tax based on the user's income and tax brackets.\n",
    "# Function to calculate income tax based on tax brackets\n",
    "def calculate_tax(income):\n",
    "    tax = 0\n",
    "\n",
    "    # Tax for income in the range 0 - 10,000 (10%)\n",
    "    if income <= 100000:\n",
    "        tax = income * 0.10\n",
    "    # Tax for income in the range 10,001 - 20,000 (15%)\n",
    "    elif income <= 200000:\n",
    "        tax = 10000 * 0.10 + (income - 10000) * 0.15\n",
    "    # Tax for income in the range 20,001 - 50,000 (20%)\n",
    "    elif income <= 500000:\n",
    "        tax = 10000 * 0.10 + 10000 * 0.15 + (income - 20000) * 0.20\n",
    "    # Tax for income above 50,000 (30%)\n",
    "    else:\n",
    "        tax = 10000 * 0.10 + 10000 * 0.15 + 30000 * 0.20 + (income - 50000) * 0.30\n",
    "\n",
    "    return tax\n",
    "\n",
    "# Input: Get the income from the user\n",
    "income = float(input(\"Enter your annual income: \"))\n",
    "\n",
    "# Calculate the tax\n",
    "tax = calculate_tax(income)\n",
    "\n",
    "# Output: Display the calculated tax\n",
    "print(f\"The income tax for an income of {income} is: {tax}\")\n"
   ]
  },
  {
   "cell_type": "code",
   "execution_count": 31,
   "id": "b8d9c677-0336-43a9-a3eb-800e99f54f93",
   "metadata": {},
   "outputs": [
    {
     "name": "stdin",
     "output_type": "stream",
     "text": [
      "Enter your choice (rock, paper, or scissors):  scissors\n"
     ]
    },
    {
     "name": "stdout",
     "output_type": "stream",
     "text": [
      "\n",
      "Your choice: scissors\n",
      "Computer's choice: paper\n",
      "You win!\n"
     ]
    }
   ],
   "source": [
    "#Write a program that simulates a rock-paper-scissors game against the computer.\n",
    "import random\n",
    "\n",
    "# Function to determine the winner\n",
    "def determine_winner(user_choice, computer_choice):\n",
    "    if user_choice == computer_choice:\n",
    "        return \"It's a tie!\"\n",
    "    elif (user_choice == \"rock\" and computer_choice == \"scissors\") or \\\n",
    "         (user_choice == \"scissors\" and computer_choice == \"paper\") or \\\n",
    "         (user_choice == \"paper\" and computer_choice == \"rock\"):\n",
    "        return \"You win!\"\n",
    "    else:\n",
    "        return \"Computer wins!\"\n",
    "\n",
    "# Main program\n",
    "def play_game():\n",
    "    # List of possible choices\n",
    "    choices = [\"rock\", \"paper\", \"scissors\"]\n",
    "    \n",
    "    # Get user choice\n",
    "    user_choice = input(\"Enter your choice (rock, paper, or scissors): \").lower()\n",
    "\n",
    "    # Validate user input\n",
    "    if user_choice not in choices:\n",
    "        print(\"Invalid choice! Please choose between rock, paper, or scissors.\")\n",
    "        return\n",
    "    \n",
    "    # Get computer choice\n",
    "    computer_choice = random.choice(choices)\n",
    "    \n",
    "    # Display the choices\n",
    "    print(f\"\\nYour choice: {user_choice}\")\n",
    "    print(f\"Computer's choice: {computer_choice}\")\n",
    "    \n",
    "    # Determine and print the result\n",
    "    result = determine_winner(user_choice, computer_choice)\n",
    "    print(result)\n",
    "\n",
    "# Run the game\n",
    "play_game()\n"
   ]
  },
  {
   "cell_type": "code",
   "execution_count": 32,
   "id": "5d78f915-ee12-4f5e-9759-5f1e8342ef94",
   "metadata": {},
   "outputs": [
    {
     "name": "stdin",
     "output_type": "stream",
     "text": [
      "Enter the desired length of the password:  7\n",
      "Include uppercase letters? (y/n):  y\n",
      "Include lowercase letters? (y/n):  y\n",
      "Include digits? (y/n):  y\n",
      "Include special characters? (y/n):  y\n"
     ]
    },
    {
     "name": "stdout",
     "output_type": "stream",
     "text": [
      "Generated password: e0L@D9n\n"
     ]
    }
   ],
   "source": [
    "import random\n",
    "import string\n",
    "\n",
    "# Function to generate a random password based on user preferences\n",
    "def generate_password(length, use_uppercase, use_lowercase, use_digits, use_special_chars):\n",
    "    # Create a pool of characters based on the user's preferences\n",
    "    char_pool = \"\"\n",
    "    \n",
    "    if use_uppercase:\n",
    "        char_pool += string.ascii_uppercase\n",
    "    if use_lowercase:\n",
    "        char_pool += string.ascii_lowercase\n",
    "    if use_digits:\n",
    "        char_pool += string.digits\n",
    "    if use_special_chars:v\n",
    "        char_pool += string.punctuation\n",
    "\n",
    "    # If no character types are selected, return an error\n",
    "    if not char_pool:\n",
    "        return \"Error: You must select at least one character type.\"\n",
    "\n",
    "    # Generate a random password\n",
    "    password = ''.join(random.choice(char_pool) for _ in range(length))\n",
    "    \n",
    "    return password\n",
    "\n",
    "# Main program\n",
    "def main():\n",
    "    # Get user preferences for password generation\n",
    "    length = int(input(\"Enter the desired length of the password: \"))\n",
    "    use_uppercase = input(\"Include uppercase letters? (y/n): \").lower() == \"y\"\n",
    "    use_lowercase = input(\"Include lowercase letters? (y/n): \").lower() == \"y\"\n",
    "    use_digits = input(\"Include digits? (y/n): \").lower() == \"y\"\n",
    "    use_special_chars = input(\"Include special characters? (y/n): \").lower() == \"y\"\n",
    "\n",
    "    # Generate and display the password\n",
    "    password = generate_password(length, use_uppercase, use_lowercase, use_digits, use_special_chars)\n",
    "    print(f\"Generated password: {password}\")\n",
    "\n",
    "# Run the program\n",
    "main()\n"
   ]
  },
  {
   "cell_type": "code",
   "execution_count": 34,
   "id": "93dd5665-d5cb-4d95-b6f3-5ebee282ebb0",
   "metadata": {},
   "outputs": [
    {
     "name": "stdin",
     "output_type": "stream",
     "text": [
      "Enter a password to validate:  Sgaera@12344\n"
     ]
    },
    {
     "name": "stdout",
     "output_type": "stream",
     "text": [
      "Password is valid.\n"
     ]
    }
   ],
   "source": [
    "import re\n",
    "\n",
    "# Function to validate password\n",
    "def validate_password(password):\n",
    "    # Check if the password is at least 8 characters long\n",
    "    if len(password) < 8:\n",
    "        return \"Password must be at least 8 characters long.\"\n",
    "    \n",
    "    # Check for at least one lowercase letter\n",
    "    if not re.search(\"[a-z]\", password):\n",
    "        return \"Password must contain at least one lowercase letter.\"\n",
    "    \n",
    "    # Check for at least one uppercase letter\n",
    "    if not re.search(\"[A-Z]\", password):\n",
    "        return \"Password must contain at least one uppercase letter.\"\n",
    "    \n",
    "    # Check for at least one digit\n",
    "    if not re.search(\"[0-9]\", password):\n",
    "        return \"Password must contain at least one digit.\"\n",
    "    \n",
    "    # Check for at least one special character\n",
    "    if not re.search(\"[!@#$%^&*(),.?\\\":{}|<>]\", password):\n",
    "        return \"Password must contain at least one special character.\"\n",
    "    \n",
    "    return \"Password is valid.\"\n",
    "\n",
    "# Main program\n",
    "password = input(\"Enter a password to validate: \")\n",
    "print(validate_password(password))\n"
   ]
  },
  {
   "cell_type": "code",
   "execution_count": 35,
   "id": "90f4bbbe-24f9-44be-9d52-8fb1a78768ed",
   "metadata": {},
   "outputs": [
    {
     "name": "stdin",
     "output_type": "stream",
     "text": [
      "Enter the number of rows in the matrices:  2\n",
      "Enter the number of columns in the matrices:  2\n"
     ]
    },
    {
     "name": "stdout",
     "output_type": "stream",
     "text": [
      "Enter the elements of matrix A:\n"
     ]
    },
    {
     "name": "stdin",
     "output_type": "stream",
     "text": [
      " 5\n",
      " 7\n"
     ]
    },
    {
     "name": "stdout",
     "output_type": "stream",
     "text": [
      "Enter the elements of matrix B:\n"
     ]
    },
    {
     "name": "stdin",
     "output_type": "stream",
     "text": [
      " 6\n",
      " 7\n"
     ]
    },
    {
     "name": "stdout",
     "output_type": "stream",
     "text": [
      "\n",
      "Matrix A + Matrix B:\n",
      "[11]\n",
      "[14]\n",
      "\n",
      "Matrix A - Matrix B:\n",
      "[-1]\n",
      "[0]\n"
     ]
    }
   ],
   "source": [
    "# Function to add two matrices\n",
    "def matrix_addition(A, B):\n",
    "    rows = len(A)\n",
    "    cols = len(A[0])\n",
    "    result = [[0 for _ in range(cols)] for _ in range(rows)]\n",
    "    \n",
    "    for i in range(rows):\n",
    "        for j in range(cols):\n",
    "            result[i][j] = A[i][j] + B[i][j]\n",
    "    return result\n",
    "\n",
    "# Function to subtract two matrices\n",
    "def matrix_subtraction(A, B):\n",
    "    rows = len(A)\n",
    "    cols = len(A[0])\n",
    "    result = [[0 for _ in range(cols)] for _ in range(rows)]\n",
    "    \n",
    "    for i in range(rows):\n",
    "        for j in range(cols):\n",
    "            result[i][j] = A[i][j] - B[i][j]\n",
    "    return result\n",
    "\n",
    "# Input: Get matrix dimensions\n",
    "rows = int(input(\"Enter the number of rows in the matrices: \"))\n",
    "cols = int(input(\"Enter the number of columns in the matrices: \"))\n",
    "\n",
    "# Input: Get matrix A\n",
    "print(\"Enter the elements of matrix A:\")\n",
    "A = [list(map(int, input().split())) for _ in range(rows)]\n",
    "\n",
    "# Input: Get matrix B\n",
    "print(\"Enter the elements of matrix B:\")\n",
    "B = [list(map(int, input().split())) for _ in range(rows)]\n",
    "\n",
    "# Perform addition and subtraction\n",
    "add_result = matrix_addition(A, B)\n",
    "sub_result = matrix_subtraction(A, B)\n",
    "\n",
    "# Output: Display results\n",
    "print(\"\\nMatrix A + Matrix B:\")\n",
    "for row in add_result:\n",
    "    print(row)\n",
    "\n",
    "print(\"\\nMatrix A - Matrix B:\")\n",
    "for row in sub_result:\n",
    "    print(row)\n"
   ]
  },
  {
   "cell_type": "code",
   "execution_count": 36,
   "id": "636c9dc0-83ab-4fab-9c24-bfa5cf2438dc",
   "metadata": {},
   "outputs": [
    {
     "name": "stdin",
     "output_type": "stream",
     "text": [
      "Enter the first number:  5\n",
      "Enter the second number:  7\n"
     ]
    },
    {
     "name": "stdout",
     "output_type": "stream",
     "text": [
      "The GCD of 5 and 7 is: 1\n"
     ]
    }
   ],
   "source": [
    "# Function to calculate GCD using Euclidean algorithm\n",
    "def gcd(a, b):\n",
    "    while b:\n",
    "        a, b = b, a % b\n",
    "    return a\n",
    "\n",
    "# Input: Get two numbers from the user\n",
    "num1 = int(input(\"Enter the first number: \"))\n",
    "num2 = int(input(\"Enter the second number: \"))\n",
    "\n",
    "# Calculate and output the GCD\n",
    "result = gcd(num1, num2)\n",
    "print(f\"The GCD of {num1} and {num2} is: {result}\")\n"
   ]
  },
  {
   "cell_type": "code",
   "execution_count": null,
   "id": "914b1fad-1268-41d2-b393-ae321e9922df",
   "metadata": {},
   "outputs": [],
   "source": []
  }
 ],
 "metadata": {
  "kernelspec": {
   "display_name": "Python 3 (ipykernel)",
   "language": "python",
   "name": "python3"
  },
  "language_info": {
   "codemirror_mode": {
    "name": "ipython",
    "version": 3
   },
   "file_extension": ".py",
   "mimetype": "text/x-python",
   "name": "python",
   "nbconvert_exporter": "python",
   "pygments_lexer": "ipython3",
   "version": "3.11.3"
  }
 },
 "nbformat": 4,
 "nbformat_minor": 5
}
